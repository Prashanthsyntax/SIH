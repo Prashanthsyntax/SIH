{
 "cells": [
  {
   "cell_type": "code",
   "execution_count": null,
   "id": "c1b0ee41",
   "metadata": {},
   "outputs": [
    {
     "name": "stderr",
     "output_type": "stream",
     "text": [
      "WARNING: You are using pip version 21.2.3; however, version 25.2 is available.\n",
      "You should consider upgrading via the 'C:\\Users\\prash\\AppData\\Local\\Programs\\Python\\Python310\\python.exe -m pip install --upgrade pip' command.\n"
     ]
    },
    {
     "name": "stdout",
     "output_type": "stream",
     "text": [
      "Requirement already satisfied: pandas in c:\\users\\prash\\appdata\\local\\programs\\python\\python310\\lib\\site-packages (2.2.3)\n",
      "Requirement already satisfied: numpy in c:\\users\\prash\\appdata\\local\\programs\\python\\python310\\lib\\site-packages (2.1.3)\n",
      "Requirement already satisfied: regex in c:\\users\\prash\\appdata\\local\\programs\\python\\python310\\lib\\site-packages (2024.11.6)\n",
      "Requirement already satisfied: python-dateutil>=2.8.2 in c:\\users\\prash\\appdata\\local\\programs\\python\\python310\\lib\\site-packages (from pandas) (2.9.0.post0)\n",
      "Requirement already satisfied: pytz>=2020.1 in c:\\users\\prash\\appdata\\local\\programs\\python\\python310\\lib\\site-packages (from pandas) (2025.2)\n",
      "Requirement already satisfied: tzdata>=2022.7 in c:\\users\\prash\\appdata\\local\\programs\\python\\python310\\lib\\site-packages (from pandas) (2025.2)\n",
      "Requirement already satisfied: six>=1.5 in c:\\users\\prash\\appdata\\local\\programs\\python\\python310\\lib\\site-packages (from python-dateutil>=2.8.2->pandas) (1.17.0)\n",
      "Requirement already satisfied: chromadb in c:\\users\\prash\\appdata\\local\\programs\\python\\python310\\lib\\site-packages (1.1.0)\n",
      "Requirement already satisfied: numpy>=1.22.5 in c:\\users\\prash\\appdata\\local\\programs\\python\\python310\\lib\\site-packages (from chromadb) (2.1.3)\n",
      "Requirement already satisfied: posthog<6.0.0,>=2.4.0 in c:\\users\\prash\\appdata\\local\\programs\\python\\python310\\lib\\site-packages (from chromadb) (5.4.0)\n",
      "Requirement already satisfied: tokenizers>=0.13.2 in c:\\users\\prash\\appdata\\local\\programs\\python\\python310\\lib\\site-packages (from chromadb) (0.21.1)\n",
      "Requirement already satisfied: rich>=10.11.0 in c:\\users\\prash\\appdata\\local\\programs\\python\\python310\\lib\\site-packages (from chromadb) (14.0.0)\n",
      "Requirement already satisfied: kubernetes>=28.1.0 in c:\\users\\prash\\appdata\\local\\programs\\python\\python310\\lib\\site-packages (from chromadb) (33.1.0)\n",
      "Requirement already satisfied: tqdm>=4.65.0 in c:\\users\\prash\\appdata\\local\\programs\\python\\python310\\lib\\site-packages (from chromadb) (4.67.1)\n",
      "Requirement already satisfied: httpx>=0.27.0 in c:\\users\\prash\\appdata\\local\\programs\\python\\python310\\lib\\site-packages (from chromadb) (0.28.1)\n",
      "Requirement already satisfied: onnxruntime>=1.14.1 in c:\\users\\prash\\appdata\\local\\programs\\python\\python310\\lib\\site-packages (from chromadb) (1.22.1)\n",
      "Requirement already satisfied: pyyaml>=6.0.0 in c:\\users\\prash\\appdata\\local\\programs\\python\\python310\\lib\\site-packages (from chromadb) (6.0.2)\n",
      "Requirement already satisfied: pypika>=0.48.9 in c:\\users\\prash\\appdata\\local\\programs\\python\\python310\\lib\\site-packages (from chromadb) (0.48.9)\n",
      "Requirement already satisfied: tenacity>=8.2.3 in c:\\users\\prash\\appdata\\local\\programs\\python\\python310\\lib\\site-packages (from chromadb) (9.1.2)\n",
      "Requirement already satisfied: pybase64>=1.4.1 in c:\\users\\prash\\appdata\\local\\programs\\python\\python310\\lib\\site-packages (from chromadb) (1.4.2)\n",
      "Requirement already satisfied: uvicorn[standard]>=0.18.3 in c:\\users\\prash\\appdata\\local\\programs\\python\\python310\\lib\\site-packages (from chromadb) (0.36.0)\n",
      "Requirement already satisfied: importlib-resources in c:\\users\\prash\\appdata\\local\\programs\\python\\python310\\lib\\site-packages (from chromadb) (6.5.2)\n",
      "Requirement already satisfied: typing-extensions>=4.5.0 in c:\\users\\prash\\appdata\\local\\programs\\python\\python310\\lib\\site-packages (from chromadb) (4.13.1)\n",
      "Requirement already satisfied: opentelemetry-exporter-otlp-proto-grpc>=1.2.0 in c:\\users\\prash\\appdata\\local\\programs\\python\\python310\\lib\\site-packages (from chromadb) (1.37.0)\n",
      "Requirement already satisfied: typer>=0.9.0 in c:\\users\\prash\\appdata\\local\\programs\\python\\python310\\lib\\site-packages (from chromadb) (0.19.1)\n",
      "Requirement already satisfied: opentelemetry-sdk>=1.2.0 in c:\\users\\prash\\appdata\\local\\programs\\python\\python310\\lib\\site-packages (from chromadb) (1.37.0)\n",
      "Requirement already satisfied: pydantic>=1.9 in c:\\users\\prash\\appdata\\local\\programs\\python\\python310\\lib\\site-packages (from chromadb) (2.11.9)\n",
      "Requirement already satisfied: bcrypt>=4.0.1 in c:\\users\\prash\\appdata\\local\\programs\\python\\python310\\lib\\site-packages (from chromadb) (4.3.0)\n",
      "Requirement already satisfied: grpcio>=1.58.0 in c:\\users\\prash\\appdata\\local\\programs\\python\\python310\\lib\\site-packages (from chromadb) (1.71.0)\n",
      "Requirement already satisfied: build>=1.0.3 in c:\\users\\prash\\appdata\\local\\programs\\python\\python310\\lib\\site-packages (from chromadb) (1.3.0)\n",
      "Requirement already satisfied: overrides>=7.3.1 in c:\\users\\prash\\appdata\\local\\programs\\python\\python310\\lib\\site-packages (from chromadb) (7.7.0)\n",
      "Requirement already satisfied: jsonschema>=4.19.0 in c:\\users\\prash\\appdata\\local\\programs\\python\\python310\\lib\\site-packages (from chromadb) (4.25.1)\n",
      "Requirement already satisfied: orjson>=3.9.12 in c:\\users\\prash\\appdata\\local\\programs\\python\\python310\\lib\\site-packages (from chromadb) (3.11.3)\n",
      "Requirement already satisfied: mmh3>=4.0.1 in c:\\users\\prash\\appdata\\local\\programs\\python\\python310\\lib\\site-packages (from chromadb) (5.2.0)\n",
      "Requirement already satisfied: opentelemetry-api>=1.2.0 in c:\\users\\prash\\appdata\\local\\programs\\python\\python310\\lib\\site-packages (from chromadb) (1.37.0)\n",
      "Requirement already satisfied: packaging>=19.1 in c:\\users\\prash\\appdata\\local\\programs\\python\\python310\\lib\\site-packages (from build>=1.0.3->chromadb) (24.2)\n",
      "Requirement already satisfied: pyproject_hooks in c:\\users\\prash\\appdata\\local\\programs\\python\\python310\\lib\\site-packages (from build>=1.0.3->chromadb) (1.2.0)\n",
      "Requirement already satisfied: colorama in c:\\users\\prash\\appdata\\local\\programs\\python\\python310\\lib\\site-packages (from build>=1.0.3->chromadb) (0.4.6)\n",
      "Requirement already satisfied: tomli>=1.1.0 in c:\\users\\prash\\appdata\\local\\programs\\python\\python310\\lib\\site-packages (from build>=1.0.3->chromadb) (2.2.1)\n",
      "Requirement already satisfied: importlib-metadata>=4.6 in c:\\users\\prash\\appdata\\local\\programs\\python\\python310\\lib\\site-packages (from build>=1.0.3->chromadb) (8.7.0)\n",
      "Requirement already satisfied: anyio in c:\\users\\prash\\appdata\\local\\programs\\python\\python310\\lib\\site-packages (from httpx>=0.27.0->chromadb) (4.10.0)\n",
      "Requirement already satisfied: httpcore==1.* in c:\\users\\prash\\appdata\\local\\programs\\python\\python310\\lib\\site-packages (from httpx>=0.27.0->chromadb) (1.0.9)\n",
      "Requirement already satisfied: idna in c:\\users\\prash\\appdata\\local\\programs\\python\\python310\\lib\\site-packages (from httpx>=0.27.0->chromadb) (3.10)\n",
      "Requirement already satisfied: certifi in c:\\users\\prash\\appdata\\local\\programs\\python\\python310\\lib\\site-packages (from httpx>=0.27.0->chromadb) (2025.1.31)\n",
      "Requirement already satisfied: h11>=0.16 in c:\\users\\prash\\appdata\\local\\programs\\python\\python310\\lib\\site-packages (from httpcore==1.*->httpx>=0.27.0->chromadb) (0.16.0)\n",
      "Requirement already satisfied: zipp>=3.20 in c:\\users\\prash\\appdata\\local\\programs\\python\\python310\\lib\\site-packages (from importlib-metadata>=4.6->build>=1.0.3->chromadb) (3.23.0)\n",
      "Requirement already satisfied: jsonschema-specifications>=2023.03.6 in c:\\users\\prash\\appdata\\local\\programs\\python\\python310\\lib\\site-packages (from jsonschema>=4.19.0->chromadb) (2025.9.1)\n",
      "Requirement already satisfied: referencing>=0.28.4 in c:\\users\\prash\\appdata\\local\\programs\\python\\python310\\lib\\site-packages (from jsonschema>=4.19.0->chromadb) (0.36.2)\n",
      "Requirement already satisfied: rpds-py>=0.7.1 in c:\\users\\prash\\appdata\\local\\programs\\python\\python310\\lib\\site-packages (from jsonschema>=4.19.0->chromadb) (0.27.1)\n",
      "Requirement already satisfied: attrs>=22.2.0 in c:\\users\\prash\\appdata\\local\\programs\\python\\python310\\lib\\site-packages (from jsonschema>=4.19.0->chromadb) (25.3.0)\n",
      "Requirement already satisfied: requests-oauthlib in c:\\users\\prash\\appdata\\local\\programs\\python\\python310\\lib\\site-packages (from kubernetes>=28.1.0->chromadb) (2.0.0)\n",
      "Requirement already satisfied: urllib3>=1.24.2 in c:\\users\\prash\\appdata\\local\\programs\\python\\python310\\lib\\site-packages (from kubernetes>=28.1.0->chromadb) (2.3.0)\n",
      "Requirement already satisfied: websocket-client!=0.40.0,!=0.41.*,!=0.42.*,>=0.32.0 in c:\\users\\prash\\appdata\\local\\programs\\python\\python310\\lib\\site-packages (from kubernetes>=28.1.0->chromadb) (1.8.0)\n",
      "Requirement already satisfied: google-auth>=1.0.1 in c:\\users\\prash\\appdata\\local\\programs\\python\\python310\\lib\\site-packages (from kubernetes>=28.1.0->chromadb) (2.40.3)\n",
      "Requirement already satisfied: requests in c:\\users\\prash\\appdata\\local\\programs\\python\\python310\\lib\\site-packages (from kubernetes>=28.1.0->chromadb) (2.32.3)\n",
      "Requirement already satisfied: oauthlib>=3.2.2 in c:\\users\\prash\\appdata\\local\\programs\\python\\python310\\lib\\site-packages (from kubernetes>=28.1.0->chromadb) (3.3.1)\n",
      "Requirement already satisfied: durationpy>=0.7 in c:\\users\\prash\\appdata\\local\\programs\\python\\python310\\lib\\site-packages (from kubernetes>=28.1.0->chromadb) (0.10)\n",
      "Requirement already satisfied: six>=1.9.0 in c:\\users\\prash\\appdata\\local\\programs\\python\\python310\\lib\\site-packages (from kubernetes>=28.1.0->chromadb) (1.17.0)\n",
      "Requirement already satisfied: python-dateutil>=2.5.3 in c:\\users\\prash\\appdata\\local\\programs\\python\\python310\\lib\\site-packages (from kubernetes>=28.1.0->chromadb) (2.9.0.post0)\n",
      "Requirement already satisfied: cachetools<6.0,>=2.0.0 in c:\\users\\prash\\appdata\\local\\programs\\python\\python310\\lib\\site-packages (from google-auth>=1.0.1->kubernetes>=28.1.0->chromadb) (5.5.2)\n",
      "Requirement already satisfied: pyasn1-modules>=0.2.1 in c:\\users\\prash\\appdata\\local\\programs\\python\\python310\\lib\\site-packages (from google-auth>=1.0.1->kubernetes>=28.1.0->chromadb) (0.4.2)\n",
      "Requirement already satisfied: rsa<5,>=3.1.4 in c:\\users\\prash\\appdata\\local\\programs\\python\\python310\\lib\\site-packages (from google-auth>=1.0.1->kubernetes>=28.1.0->chromadb) (4.9.1)\n",
      "Requirement already satisfied: coloredlogs in c:\\users\\prash\\appdata\\local\\programs\\python\\python310\\lib\\site-packages (from onnxruntime>=1.14.1->chromadb) (15.0.1)\n",
      "Requirement already satisfied: flatbuffers in c:\\users\\prash\\appdata\\local\\programs\\python\\python310\\lib\\site-packages (from onnxruntime>=1.14.1->chromadb) (25.2.10)\n",
      "Requirement already satisfied: sympy in c:\\users\\prash\\appdata\\local\\programs\\python\\python310\\lib\\site-packages (from onnxruntime>=1.14.1->chromadb) (1.13.1)\n",
      "Requirement already satisfied: protobuf in c:\\users\\prash\\appdata\\local\\programs\\python\\python310\\lib\\site-packages (from onnxruntime>=1.14.1->chromadb) (5.29.4)\n",
      "Requirement already satisfied: opentelemetry-exporter-otlp-proto-common==1.37.0 in c:\\users\\prash\\appdata\\local\\programs\\python\\python310\\lib\\site-packages (from opentelemetry-exporter-otlp-proto-grpc>=1.2.0->chromadb) (1.37.0)\n",
      "Requirement already satisfied: opentelemetry-proto==1.37.0 in c:\\users\\prash\\appdata\\local\\programs\\python\\python310\\lib\\site-packages (from opentelemetry-exporter-otlp-proto-grpc>=1.2.0->chromadb) (1.37.0)\n",
      "Requirement already satisfied: googleapis-common-protos~=1.57 in c:\\users\\prash\\appdata\\local\\programs\\python\\python310\\lib\\site-packages (from opentelemetry-exporter-otlp-proto-grpc>=1.2.0->chromadb) (1.70.0)\n",
      "Requirement already satisfied: opentelemetry-semantic-conventions==0.58b0 in c:\\users\\prash\\appdata\\local\\programs\\python\\python310\\lib\\site-packages (from opentelemetry-sdk>=1.2.0->chromadb) (0.58b0)\n",
      "Requirement already satisfied: backoff>=1.10.0 in c:\\users\\prash\\appdata\\local\\programs\\python\\python310\\lib\\site-packages (from posthog<6.0.0,>=2.4.0->chromadb) (1.11.1)\n",
      "Requirement already satisfied: distro>=1.5.0 in c:\\users\\prash\\appdata\\local\\programs\\python\\python310\\lib\\site-packages (from posthog<6.0.0,>=2.4.0->chromadb) (1.9.0)\n",
      "Requirement already satisfied: pyasn1<0.7.0,>=0.6.1 in c:\\users\\prash\\appdata\\local\\programs\\python\\python310\\lib\\site-packages (from pyasn1-modules>=0.2.1->google-auth>=1.0.1->kubernetes>=28.1.0->chromadb) (0.6.1)\n",
      "Requirement already satisfied: annotated-types>=0.6.0 in c:\\users\\prash\\appdata\\local\\programs\\python\\python310\\lib\\site-packages (from pydantic>=1.9->chromadb) (0.7.0)\n",
      "Requirement already satisfied: pydantic-core==2.33.2 in c:\\users\\prash\\appdata\\local\\programs\\python\\python310\\lib\\site-packages (from pydantic>=1.9->chromadb) (2.33.2)\n",
      "Requirement already satisfied: typing-inspection>=0.4.0 in c:\\users\\prash\\appdata\\local\\programs\\python\\python310\\lib\\site-packages (from pydantic>=1.9->chromadb) (0.4.1)\n",
      "Requirement already satisfied: charset-normalizer<4,>=2 in c:\\users\\prash\\appdata\\local\\programs\\python\\python310\\lib\\site-packages (from requests->kubernetes>=28.1.0->chromadb) (3.4.1)\n",
      "Requirement already satisfied: pygments<3.0.0,>=2.13.0 in c:\\users\\prash\\appdata\\local\\programs\\python\\python310\\lib\\site-packages (from rich>=10.11.0->chromadb) (2.19.1)\n",
      "Requirement already satisfied: markdown-it-py>=2.2.0 in c:\\users\\prash\\appdata\\local\\programs\\python\\python310\\lib\\site-packages (from rich>=10.11.0->chromadb) (3.0.0)\n",
      "Requirement already satisfied: mdurl~=0.1 in c:\\users\\prash\\appdata\\local\\programs\\python\\python310\\lib\\site-packages (from markdown-it-py>=2.2.0->rich>=10.11.0->chromadb) (0.1.2)\n",
      "Requirement already satisfied: huggingface-hub<1.0,>=0.16.4 in c:\\users\\prash\\appdata\\local\\programs\\python\\python310\\lib\\site-packages (from tokenizers>=0.13.2->chromadb) (0.30.2)\n",
      "Requirement already satisfied: filelock in c:\\users\\prash\\appdata\\local\\programs\\python\\python310\\lib\\site-packages (from huggingface-hub<1.0,>=0.16.4->tokenizers>=0.13.2->chromadb) (3.18.0)\n",
      "Requirement already satisfied: fsspec>=2023.5.0 in c:\\users\\prash\\appdata\\local\\programs\\python\\python310\\lib\\site-packages (from huggingface-hub<1.0,>=0.16.4->tokenizers>=0.13.2->chromadb) (2025.3.2)\n",
      "Requirement already satisfied: shellingham>=1.3.0 in c:\\users\\prash\\appdata\\local\\programs\\python\\python310\\lib\\site-packages (from typer>=0.9.0->chromadb) (1.5.4)\n",
      "Requirement already satisfied: click>=8.0.0 in c:\\users\\prash\\appdata\\local\\programs\\python\\python310\\lib\\site-packages (from typer>=0.9.0->chromadb) (8.1.8)\n",
      "Requirement already satisfied: watchfiles>=0.13 in c:\\users\\prash\\appdata\\local\\programs\\python\\python310\\lib\\site-packages (from uvicorn[standard]>=0.18.3->chromadb) (1.1.0)\n",
      "Requirement already satisfied: python-dotenv>=0.13 in c:\\users\\prash\\appdata\\local\\programs\\python\\python310\\lib\\site-packages (from uvicorn[standard]>=0.18.3->chromadb) (1.1.0)\n",
      "Requirement already satisfied: httptools>=0.6.3 in c:\\users\\prash\\appdata\\local\\programs\\python\\python310\\lib\\site-packages (from uvicorn[standard]>=0.18.3->chromadb) (0.6.4)\n",
      "Requirement already satisfied: websockets>=10.4 in c:\\users\\prash\\appdata\\local\\programs\\python\\python310\\lib\\site-packages (from uvicorn[standard]>=0.18.3->chromadb) (15.0.1)\n",
      "Requirement already satisfied: exceptiongroup>=1.0.2 in c:\\users\\prash\\appdata\\roaming\\python\\python310\\site-packages (from anyio->httpx>=0.27.0->chromadb) (1.3.0)\n",
      "Requirement already satisfied: sniffio>=1.1 in c:\\users\\prash\\appdata\\local\\programs\\python\\python310\\lib\\site-packages (from anyio->httpx>=0.27.0->chromadb) (1.3.1)\n",
      "Requirement already satisfied: humanfriendly>=9.1 in c:\\users\\prash\\appdata\\local\\programs\\python\\python310\\lib\\site-packages (from coloredlogs->onnxruntime>=1.14.1->chromadb) (10.0)\n",
      "Requirement already satisfied: pyreadline3 in c:\\users\\prash\\appdata\\local\\programs\\python\\python310\\lib\\site-packages (from humanfriendly>=9.1->coloredlogs->onnxruntime>=1.14.1->chromadb) (3.5.4)\n",
      "Requirement already satisfied: mpmath<1.4,>=1.1.0 in c:\\users\\prash\\appdata\\local\\programs\\python\\python310\\lib\\site-packages (from sympy->onnxruntime>=1.14.1->chromadb) (1.3.0)\n"
     ]
    },
    {
     "name": "stderr",
     "output_type": "stream",
     "text": [
      "WARNING: You are using pip version 21.2.3; however, version 25.2 is available.\n",
      "You should consider upgrading via the 'C:\\Users\\prash\\AppData\\Local\\Programs\\Python\\Python310\\python.exe -m pip install --upgrade pip' command.\n"
     ]
    },
    {
     "name": "stdout",
     "output_type": "stream",
     "text": [
      "Requirement already satisfied: sentence-transformers in c:\\users\\prash\\appdata\\local\\programs\\python\\python310\\lib\\site-packages (5.1.0)\n",
      "Requirement already satisfied: scipy in c:\\users\\prash\\appdata\\local\\programs\\python\\python310\\lib\\site-packages (from sentence-transformers) (1.15.2)\n",
      "Requirement already satisfied: transformers<5.0.0,>=4.41.0 in c:\\users\\prash\\appdata\\local\\programs\\python\\python310\\lib\\site-packages (from sentence-transformers) (4.51.1)\n",
      "Requirement already satisfied: scikit-learn in c:\\users\\prash\\appdata\\local\\programs\\python\\python310\\lib\\site-packages (from sentence-transformers) (1.6.1)\n",
      "Requirement already satisfied: tqdm in c:\\users\\prash\\appdata\\local\\programs\\python\\python310\\lib\\site-packages (from sentence-transformers) (4.67.1)\n",
      "Requirement already satisfied: huggingface-hub>=0.20.0 in c:\\users\\prash\\appdata\\local\\programs\\python\\python310\\lib\\site-packages (from sentence-transformers) (0.30.2)\n",
      "Requirement already satisfied: Pillow in c:\\users\\prash\\appdata\\local\\programs\\python\\python310\\lib\\site-packages (from sentence-transformers) (11.1.0)\n",
      "Requirement already satisfied: torch>=1.11.0 in c:\\users\\prash\\appdata\\local\\programs\\python\\python310\\lib\\site-packages (from sentence-transformers) (2.6.0)\n",
      "Requirement already satisfied: typing_extensions>=4.5.0 in c:\\users\\prash\\appdata\\local\\programs\\python\\python310\\lib\\site-packages (from sentence-transformers) (4.13.1)\n",
      "Requirement already satisfied: pyyaml>=5.1 in c:\\users\\prash\\appdata\\local\\programs\\python\\python310\\lib\\site-packages (from huggingface-hub>=0.20.0->sentence-transformers) (6.0.2)\n",
      "Requirement already satisfied: filelock in c:\\users\\prash\\appdata\\local\\programs\\python\\python310\\lib\\site-packages (from huggingface-hub>=0.20.0->sentence-transformers) (3.18.0)\n",
      "Requirement already satisfied: requests in c:\\users\\prash\\appdata\\local\\programs\\python\\python310\\lib\\site-packages (from huggingface-hub>=0.20.0->sentence-transformers) (2.32.3)\n",
      "Requirement already satisfied: fsspec>=2023.5.0 in c:\\users\\prash\\appdata\\local\\programs\\python\\python310\\lib\\site-packages (from huggingface-hub>=0.20.0->sentence-transformers) (2025.3.2)\n",
      "Requirement already satisfied: packaging>=20.9 in c:\\users\\prash\\appdata\\local\\programs\\python\\python310\\lib\\site-packages (from huggingface-hub>=0.20.0->sentence-transformers) (24.2)\n",
      "Requirement already satisfied: sympy==1.13.1 in c:\\users\\prash\\appdata\\local\\programs\\python\\python310\\lib\\site-packages (from torch>=1.11.0->sentence-transformers) (1.13.1)\n",
      "Requirement already satisfied: networkx in c:\\users\\prash\\appdata\\local\\programs\\python\\python310\\lib\\site-packages (from torch>=1.11.0->sentence-transformers) (3.4.2)\n",
      "Requirement already satisfied: jinja2 in c:\\users\\prash\\appdata\\local\\programs\\python\\python310\\lib\\site-packages (from torch>=1.11.0->sentence-transformers) (3.1.6)\n",
      "Requirement already satisfied: mpmath<1.4,>=1.1.0 in c:\\users\\prash\\appdata\\local\\programs\\python\\python310\\lib\\site-packages (from sympy==1.13.1->torch>=1.11.0->sentence-transformers) (1.3.0)\n",
      "Requirement already satisfied: colorama in c:\\users\\prash\\appdata\\local\\programs\\python\\python310\\lib\\site-packages (from tqdm->sentence-transformers) (0.4.6)\n",
      "Requirement already satisfied: regex!=2019.12.17 in c:\\users\\prash\\appdata\\local\\programs\\python\\python310\\lib\\site-packages (from transformers<5.0.0,>=4.41.0->sentence-transformers) (2024.11.6)\n",
      "Requirement already satisfied: tokenizers<0.22,>=0.21 in c:\\users\\prash\\appdata\\local\\programs\\python\\python310\\lib\\site-packages (from transformers<5.0.0,>=4.41.0->sentence-transformers) (0.21.1)\n",
      "Requirement already satisfied: safetensors>=0.4.3 in c:\\users\\prash\\appdata\\local\\programs\\python\\python310\\lib\\site-packages (from transformers<5.0.0,>=4.41.0->sentence-transformers) (0.5.3)\n",
      "Requirement already satisfied: numpy>=1.17 in c:\\users\\prash\\appdata\\local\\programs\\python\\python310\\lib\\site-packages (from transformers<5.0.0,>=4.41.0->sentence-transformers) (2.1.3)\n",
      "Requirement already satisfied: MarkupSafe>=2.0 in c:\\users\\prash\\appdata\\local\\programs\\python\\python310\\lib\\site-packages (from jinja2->torch>=1.11.0->sentence-transformers) (3.0.2)\n",
      "Requirement already satisfied: idna<4,>=2.5 in c:\\users\\prash\\appdata\\local\\programs\\python\\python310\\lib\\site-packages (from requests->huggingface-hub>=0.20.0->sentence-transformers) (3.10)\n",
      "Requirement already satisfied: charset-normalizer<4,>=2 in c:\\users\\prash\\appdata\\local\\programs\\python\\python310\\lib\\site-packages (from requests->huggingface-hub>=0.20.0->sentence-transformers) (3.4.1)\n",
      "Requirement already satisfied: certifi>=2017.4.17 in c:\\users\\prash\\appdata\\local\\programs\\python\\python310\\lib\\site-packages (from requests->huggingface-hub>=0.20.0->sentence-transformers) (2025.1.31)\n",
      "Requirement already satisfied: urllib3<3,>=1.21.1 in c:\\users\\prash\\appdata\\local\\programs\\python\\python310\\lib\\site-packages (from requests->huggingface-hub>=0.20.0->sentence-transformers) (2.3.0)\n",
      "Requirement already satisfied: joblib>=1.2.0 in c:\\users\\prash\\appdata\\local\\programs\\python\\python310\\lib\\site-packages (from scikit-learn->sentence-transformers) (1.4.2)\n",
      "Requirement already satisfied: threadpoolctl>=3.1.0 in c:\\users\\prash\\appdata\\local\\programs\\python\\python310\\lib\\site-packages (from scikit-learn->sentence-transformers) (3.6.0)\n"
     ]
    },
    {
     "name": "stderr",
     "output_type": "stream",
     "text": [
      "WARNING: You are using pip version 21.2.3; however, version 25.2 is available.\n",
      "You should consider upgrading via the 'C:\\Users\\prash\\AppData\\Local\\Programs\\Python\\Python310\\python.exe -m pip install --upgrade pip' command.\n"
     ]
    },
    {
     "name": "stdout",
     "output_type": "stream",
     "text": [
      "Requirement already satisfied: transformers in c:\\users\\prash\\appdata\\local\\programs\\python\\python310\\lib\\site-packages (4.51.1)\n",
      "Requirement already satisfied: torch in c:\\users\\prash\\appdata\\local\\programs\\python\\python310\\lib\\site-packages (2.6.0)\n",
      "Requirement already satisfied: pyyaml>=5.1 in c:\\users\\prash\\appdata\\local\\programs\\python\\python310\\lib\\site-packages (from transformers) (6.0.2)\n",
      "Requirement already satisfied: regex!=2019.12.17 in c:\\users\\prash\\appdata\\local\\programs\\python\\python310\\lib\\site-packages (from transformers) (2024.11.6)\n",
      "Requirement already satisfied: huggingface-hub<1.0,>=0.30.0 in c:\\users\\prash\\appdata\\local\\programs\\python\\python310\\lib\\site-packages (from transformers) (0.30.2)\n",
      "Requirement already satisfied: numpy>=1.17 in c:\\users\\prash\\appdata\\local\\programs\\python\\python310\\lib\\site-packages (from transformers) (2.1.3)\n",
      "Requirement already satisfied: tqdm>=4.27 in c:\\users\\prash\\appdata\\local\\programs\\python\\python310\\lib\\site-packages (from transformers) (4.67.1)\n",
      "Requirement already satisfied: tokenizers<0.22,>=0.21 in c:\\users\\prash\\appdata\\local\\programs\\python\\python310\\lib\\site-packages (from transformers) (0.21.1)\n",
      "Requirement already satisfied: filelock in c:\\users\\prash\\appdata\\local\\programs\\python\\python310\\lib\\site-packages (from transformers) (3.18.0)\n",
      "Requirement already satisfied: packaging>=20.0 in c:\\users\\prash\\appdata\\local\\programs\\python\\python310\\lib\\site-packages (from transformers) (24.2)\n",
      "Requirement already satisfied: safetensors>=0.4.3 in c:\\users\\prash\\appdata\\local\\programs\\python\\python310\\lib\\site-packages (from transformers) (0.5.3)\n",
      "Requirement already satisfied: requests in c:\\users\\prash\\appdata\\local\\programs\\python\\python310\\lib\\site-packages (from transformers) (2.32.3)\n",
      "Requirement already satisfied: sympy==1.13.1 in c:\\users\\prash\\appdata\\local\\programs\\python\\python310\\lib\\site-packages (from torch) (1.13.1)\n",
      "Requirement already satisfied: typing-extensions>=4.10.0 in c:\\users\\prash\\appdata\\local\\programs\\python\\python310\\lib\\site-packages (from torch) (4.13.1)\n",
      "Requirement already satisfied: networkx in c:\\users\\prash\\appdata\\local\\programs\\python\\python310\\lib\\site-packages (from torch) (3.4.2)\n",
      "Requirement already satisfied: jinja2 in c:\\users\\prash\\appdata\\local\\programs\\python\\python310\\lib\\site-packages (from torch) (3.1.6)\n",
      "Requirement already satisfied: fsspec in c:\\users\\prash\\appdata\\local\\programs\\python\\python310\\lib\\site-packages (from torch) (2025.3.2)\n",
      "Requirement already satisfied: mpmath<1.4,>=1.1.0 in c:\\users\\prash\\appdata\\local\\programs\\python\\python310\\lib\\site-packages (from sympy==1.13.1->torch) (1.3.0)\n",
      "Requirement already satisfied: colorama in c:\\users\\prash\\appdata\\local\\programs\\python\\python310\\lib\\site-packages (from tqdm>=4.27->transformers) (0.4.6)\n",
      "Requirement already satisfied: MarkupSafe>=2.0 in c:\\users\\prash\\appdata\\local\\programs\\python\\python310\\lib\\site-packages (from jinja2->torch) (3.0.2)\n",
      "Requirement already satisfied: idna<4,>=2.5 in c:\\users\\prash\\appdata\\local\\programs\\python\\python310\\lib\\site-packages (from requests->transformers) (3.10)\n",
      "Requirement already satisfied: certifi>=2017.4.17 in c:\\users\\prash\\appdata\\local\\programs\\python\\python310\\lib\\site-packages (from requests->transformers) (2025.1.31)\n",
      "Requirement already satisfied: charset-normalizer<4,>=2 in c:\\users\\prash\\appdata\\local\\programs\\python\\python310\\lib\\site-packages (from requests->transformers) (3.4.1)\n",
      "Requirement already satisfied: urllib3<3,>=1.21.1 in c:\\users\\prash\\appdata\\local\\programs\\python\\python310\\lib\\site-packages (from requests->transformers) (2.3.0)\n"
     ]
    },
    {
     "name": "stderr",
     "output_type": "stream",
     "text": [
      "WARNING: You are using pip version 21.2.3; however, version 25.2 is available.\n",
      "You should consider upgrading via the 'C:\\Users\\prash\\AppData\\Local\\Programs\\Python\\Python310\\python.exe -m pip install --upgrade pip' command.\n"
     ]
    }
   ],
   "source": [
    "!pip install pandas numpy regex\n",
    "!pip install chromadb\n",
    "!pip install sentence-transformers\n",
    "!pip install transformers torch"
   ]
  },
  {
   "cell_type": "code",
   "execution_count": 2,
   "id": "454a2873",
   "metadata": {},
   "outputs": [
    {
     "name": "stderr",
     "output_type": "stream",
     "text": [
      "c:\\Users\\prash\\AppData\\Local\\Programs\\Python\\Python310\\lib\\site-packages\\tqdm\\auto.py:21: TqdmWarning: IProgress not found. Please update jupyter and ipywidgets. See https://ipywidgets.readthedocs.io/en/stable/user_install.html\n",
      "  from .autonotebook import tqdm as notebook_tqdm\n"
     ]
    },
    {
     "name": "stdout",
     "output_type": "stream",
     "text": [
      "WARNING:tensorflow:From c:\\Users\\prash\\AppData\\Local\\Programs\\Python\\Python310\\lib\\site-packages\\tf_keras\\src\\losses.py:2976: The name tf.losses.sparse_softmax_cross_entropy is deprecated. Please use tf.compat.v1.losses.sparse_softmax_cross_entropy instead.\n",
      "\n"
     ]
    }
   ],
   "source": [
    "# --------------------------\n",
    "# 1️⃣ Install packages (run once in your environment)\n",
    "# --------------------------\n",
    "# pip install pandas sentence-transformers transformers torch chromadb\n",
    "\n",
    "import pandas as pd\n",
    "import re\n",
    "import json\n",
    "import numpy as np\n",
    "import chromadb\n",
    "from sentence_transformers import SentenceTransformer\n",
    "from transformers import AutoTokenizer, AutoModelForSeq2SeqLM, pipeline\n",
    "import torch"
   ]
  },
  {
   "cell_type": "code",
   "execution_count": 3,
   "id": "d69b9d03",
   "metadata": {},
   "outputs": [
    {
     "name": "stdout",
     "output_type": "stream",
     "text": [
      "✅ Laws dataset loaded. Number of rows: 35\n"
     ]
    }
   ],
   "source": [
    "# --------------------------\n",
    "# 2️⃣ Load and clean your dataset\n",
    "# --------------------------\n",
    "with open(\"ipc_constitution.json\", \"r\", encoding=\"utf-8\") as f:\n",
    "    law_data = json.load(f)\n",
    "\n",
    "df = pd.DataFrame(law_data)\n",
    "\n",
    "def clean_text(t):\n",
    "    if pd.isna(t):\n",
    "        return \"\"\n",
    "    s = str(t)\n",
    "    s = s.replace(\"\\n\", \" \").replace(\"\\t\", \" \")\n",
    "    s = re.sub(r\"\\s+\", \" \", s)\n",
    "    return s.strip()\n",
    "\n",
    "df[\"context\"] = df[\"document\"].apply(clean_text)\n",
    "print(f\"✅ Laws dataset loaded. Number of rows: {len(df)}\")"
   ]
  },
  {
   "cell_type": "code",
   "execution_count": 4,
   "id": "a73f2c30",
   "metadata": {},
   "outputs": [
    {
     "name": "stdout",
     "output_type": "stream",
     "text": [
      "✅ Total text chunks prepared: 35\n"
     ]
    }
   ],
   "source": [
    "# --------------------------\n",
    "# 3️⃣ Chunk the text\n",
    "# --------------------------\n",
    "def chunk_text(text, max_chars=800, overlap=150):\n",
    "    chunks = []\n",
    "    start = 0\n",
    "    while start < len(text):\n",
    "        end = min(start + max_chars, len(text))\n",
    "        chunks.append(text[start:end].strip())\n",
    "        if end == len(text):\n",
    "            break\n",
    "        start = end - overlap\n",
    "    return chunks\n",
    "\n",
    "all_chunks, all_ids, all_metadata = [], [], []\n",
    "\n",
    "for idx, row in df.iterrows():\n",
    "    if not isinstance(row[\"context\"], str) or not row[\"context\"].strip():\n",
    "        continue\n",
    "\n",
    "    chunks = chunk_text(row[\"context\"])\n",
    "    for j, chunk in enumerate(chunks):\n",
    "        all_chunks.append(chunk)\n",
    "        all_ids.append(f\"{row['id']}_chunk{j}\")\n",
    "        # include type in metadata\n",
    "        all_metadata.append({**row[\"metadata\"], \"chunk\": j, \"type\": row.get(\"type\", \"\")})\n",
    "\n",
    "print(\"✅ Total text chunks prepared:\", len(all_chunks))"
   ]
  },
  {
   "cell_type": "code",
   "execution_count": 5,
   "id": "09d5e1f4",
   "metadata": {},
   "outputs": [
    {
     "name": "stderr",
     "output_type": "stream",
     "text": [
      "Batches: 100%|██████████| 2/2 [00:00<00:00,  3.75it/s]\n"
     ]
    }
   ],
   "source": [
    "# --------------------------\n",
    "# 4️⃣ Create embeddings\n",
    "# --------------------------\n",
    "embedder = SentenceTransformer(\"sentence-transformers/all-MiniLM-L6-v2\")\n",
    "embeddings = embedder.encode(all_chunks, convert_to_numpy=True, show_progress_bar=True)\n",
    "embeddings = embeddings / np.linalg.norm(embeddings, axis=1, keepdims=True)"
   ]
  },
  {
   "cell_type": "code",
   "execution_count": 6,
   "id": "b0e92ad5",
   "metadata": {},
   "outputs": [
    {
     "name": "stdout",
     "output_type": "stream",
     "text": [
      "✅ Added batch 1, size: 35\n",
      "✅ All law chunks added to ChromaDB!\n"
     ]
    }
   ],
   "source": [
    "# --------------------------\n",
    "# 5️⃣ Upload to ChromaDB\n",
    "# --------------------------\n",
    "# Convert lists in metadata to comma-separated strings\n",
    "for meta in all_metadata:\n",
    "    for k, v in meta.items():\n",
    "        if isinstance(v, list):\n",
    "            meta[k] = \", \".join(map(str, v))\n",
    "\n",
    "# Initialize ChromaDB client\n",
    "client = chromadb.CloudClient(\n",
    "  api_key='ck-8ogrFSdCtYH9Bxh9mZ7A4dMsGbdQ2zp3VrLKNeHrfirE',\n",
    "  tenant='f9ac33d4-f162-4b85-b38d-1c8b719366e6',\n",
    "  database='VECDB'\n",
    ")\n",
    "\n",
    "collection_name = \"indian_laws\"\n",
    "if collection_name in [c.name for c in client.list_collections()]:\n",
    "    collection = client.get_collection(name=collection_name)\n",
    "else:\n",
    "    collection = client.create_collection(name=collection_name)\n",
    "\n",
    "# Batch upload\n",
    "MAX_RECORDS = 300\n",
    "for i in range(0, len(all_chunks), MAX_RECORDS):\n",
    "    batch_chunks = all_chunks[i:i+MAX_RECORDS]\n",
    "    batch_embeddings = embeddings[i:i+MAX_RECORDS].tolist()\n",
    "    batch_ids = all_ids[i:i+MAX_RECORDS]\n",
    "    batch_metadatas = all_metadata[i:i+MAX_RECORDS]\n",
    "\n",
    "    collection.add(\n",
    "        documents=batch_chunks,\n",
    "        embeddings=batch_embeddings,\n",
    "        ids=batch_ids,\n",
    "        metadatas=batch_metadatas\n",
    "    )\n",
    "    print(f\"✅ Added batch {i//MAX_RECORDS + 1}, size: {len(batch_chunks)}\")\n",
    "\n",
    "print(\"✅ All law chunks added to ChromaDB!\")"
   ]
  },
  {
   "cell_type": "code",
   "execution_count": 7,
   "id": "29803e11",
   "metadata": {},
   "outputs": [
    {
     "name": "stderr",
     "output_type": "stream",
     "text": [
      "Device set to use cpu\n"
     ]
    }
   ],
   "source": [
    "# --------------------------\n",
    "# 6️⃣ Load FLAN-T5 for QA\n",
    "# --------------------------\n",
    "model_name = \"google/flan-t5-base\"\n",
    "tokenizer = AutoTokenizer.from_pretrained(model_name)\n",
    "model = AutoModelForSeq2SeqLM.from_pretrained(model_name)\n",
    "device = 0 if torch.cuda.is_available() else -1\n",
    "\n",
    "qa_pipeline = pipeline(\n",
    "    \"text2text-generation\",\n",
    "    model=model,\n",
    "    tokenizer=tokenizer,\n",
    "    device=device,\n",
    "    framework=\"pt\"\n",
    ")"
   ]
  },
  {
   "cell_type": "code",
   "execution_count": 9,
   "id": "3a4a135f",
   "metadata": {},
   "outputs": [],
   "source": [
    "# --------------------------\n",
    "# 7️⃣ Retrieval + Answering\n",
    "# --------------------------\n",
    "def retrieve(query, top_k=5):\n",
    "    results = collection.query(query_texts=[query], n_results=top_k)\n",
    "    docs = results.get(\"documents\", [[]])[0]\n",
    "    metas = results.get(\"metadatas\", [[]])[0]\n",
    "    return list(zip(docs, metas))\n",
    "\n",
    "def answer_question(question, top_k=5):\n",
    "    retrieved = retrieve(question, top_k)\n",
    "    if not retrieved:\n",
    "        return \"No relevant context found.\", []\n",
    "\n",
    "    context = \"\\n\\n\".join([doc for doc, _ in retrieved])\n",
    "    prompt = f\"Answer the following legal question using the provided context.\\n\\nContext:\\n{context}\\n\\nQuestion: {question}\\n\\nAnswer clearly and concisely:\"\n",
    "    \n",
    "    result = qa_pipeline(prompt, max_length=300, do_sample=False)\n",
    "    return result[0][\"generated_text\"], retrieved"
   ]
  },
  {
   "cell_type": "code",
   "execution_count": 10,
   "id": "c9e2745c",
   "metadata": {},
   "outputs": [
    {
     "name": "stdout",
     "output_type": "stream",
     "text": [
      "\n",
      "✅ Legal QA system ready! Type your question (type 'exit' to quit).\n",
      "\n",
      "🧑‍⚖️ Answer:\n",
      " IPC Section 307\n",
      "\n",
      "📚 Sources:\n",
      "- IPC Bare Act (Indian Penal Code 302)\n",
      "- IPC Bare Act (Indian Penal Code 307)\n",
      "- IPC Section 94 (Indian Penal Code 94)\n",
      "- IPC Bare Act (Indian Penal Code 120B)\n",
      "- IPC Section 100 (Indian Penal Code 100)\n"
     ]
    }
   ],
   "source": [
    "# --------------------------\n",
    "# 8️⃣ Interactive QA loop\n",
    "# --------------------------\n",
    "print(\"\\n✅ Legal QA system ready! Type your question (type 'exit' to quit).\")\n",
    "while True:\n",
    "    q = input(\"\\nQuestion: \")\n",
    "    if q.lower() in [\"exit\", \"quit\"]:\n",
    "        break\n",
    "    ans, ctx = answer_question(q)\n",
    "\n",
    "    print(\"\\n🧑‍⚖️ Answer:\\n\", ans)\n",
    "    print(\"\\n📚 Sources:\")\n",
    "    for doc, meta in ctx:\n",
    "        ref = meta.get(\"source\", \"Unknown Source\")\n",
    "        act = meta.get(\"act\", \"\")\n",
    "        sec = meta.get(\"section\", meta.get(\"article\", \"\"))\n",
    "        print(f\"- {ref} ({act} {sec})\")"
   ]
  },
  {
   "cell_type": "code",
   "execution_count": null,
   "id": "1023ae0e",
   "metadata": {},
   "outputs": [],
   "source": []
  },
  {
   "cell_type": "code",
   "execution_count": null,
   "id": "cb4667d6",
   "metadata": {},
   "outputs": [],
   "source": []
  }
 ],
 "metadata": {
  "kernelspec": {
   "display_name": "Python 3",
   "language": "python",
   "name": "python3"
  },
  "language_info": {
   "codemirror_mode": {
    "name": "ipython",
    "version": 3
   },
   "file_extension": ".py",
   "mimetype": "text/x-python",
   "name": "python",
   "nbconvert_exporter": "python",
   "pygments_lexer": "ipython3",
   "version": "3.10.0"
  }
 },
 "nbformat": 4,
 "nbformat_minor": 5
}
