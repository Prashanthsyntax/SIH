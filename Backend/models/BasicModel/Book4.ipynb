{
 "cells": [
  {
   "cell_type": "code",
   "execution_count": null,
   "id": "66691986",
   "metadata": {},
   "outputs": [],
   "source": []
  },
  {
   "cell_type": "code",
   "execution_count": 1,
   "id": "07994bf3",
   "metadata": {},
   "outputs": [
    {
     "name": "stderr",
     "output_type": "stream",
     "text": [
      "c:\\Users\\prash\\AppData\\Local\\Programs\\Python\\Python310\\lib\\site-packages\\tqdm\\auto.py:21: TqdmWarning: IProgress not found. Please update jupyter and ipywidgets. See https://ipywidgets.readthedocs.io/en/stable/user_install.html\n",
      "  from .autonotebook import tqdm as notebook_tqdm\n"
     ]
    },
    {
     "name": "stdout",
     "output_type": "stream",
     "text": [
      "WARNING:tensorflow:From c:\\Users\\prash\\AppData\\Local\\Programs\\Python\\Python310\\lib\\site-packages\\tf_keras\\src\\losses.py:2976: The name tf.losses.sparse_softmax_cross_entropy is deprecated. Please use tf.compat.v1.losses.sparse_softmax_cross_entropy instead.\n",
      "\n",
      "✅ Loaded chat dataset. Number of rows: 52\n"
     ]
    }
   ],
   "source": [
    "import pandas as pd\n",
    "import json\n",
    "import numpy as np\n",
    "import chromadb\n",
    "from sentence_transformers import SentenceTransformer\n",
    "\n",
    "# Load conversation JSON\n",
    "with open(\"HumanConversation.json\", \"r\", encoding=\"utf-8\") as f:\n",
    "    chat_data = json.load(f)\n",
    "\n",
    "df = pd.DataFrame(chat_data)  # columns: \"prompt\", \"completion\"\n",
    "print(f\"✅ Loaded chat dataset. Number of rows: {len(df)}\")\n"
   ]
  },
  {
   "cell_type": "code",
   "execution_count": 2,
   "id": "be3119b7",
   "metadata": {},
   "outputs": [
    {
     "name": "stderr",
     "output_type": "stream",
     "text": [
      "Batches: 100%|██████████| 2/2 [00:00<00:00,  9.23it/s]"
     ]
    },
    {
     "name": "stdout",
     "output_type": "stream",
     "text": [
      "✅ Generated embeddings. Shape: (52, 384)\n"
     ]
    },
    {
     "name": "stderr",
     "output_type": "stream",
     "text": [
      "\n"
     ]
    }
   ],
   "source": [
    "embedder = SentenceTransformer(\"sentence-transformers/all-MiniLM-L6-v2\")\n",
    "\n",
    "prompts = df[\"prompt\"].tolist()\n",
    "completions = df[\"completion\"].tolist()\n",
    "\n",
    "prompt_embeddings = embedder.encode(prompts, convert_to_numpy=True, show_progress_bar=True)\n",
    "prompt_embeddings = prompt_embeddings / np.linalg.norm(prompt_embeddings, axis=1, keepdims=True)\n",
    "print(f\"✅ Generated embeddings. Shape: {prompt_embeddings.shape}\")"
   ]
  },
  {
   "cell_type": "code",
   "execution_count": 3,
   "id": "31e80528",
   "metadata": {},
   "outputs": [
    {
     "name": "stdout",
     "output_type": "stream",
     "text": [
      "✅ All chat prompts added to ChromaDB!\n"
     ]
    }
   ],
   "source": [
    "# Initialize ChromaDB\n",
    "client = chromadb.CloudClient(\n",
    "  api_key='ck-FLEMJN1q9G85JWFrL2tPqE4B7EqmrGFzuz5sSFcuCpxX',\n",
    "  tenant='f9ac33d4-f162-4b85-b38d-1c8b719366e6',\n",
    "  database='VECDB'\n",
    ")\n",
    "\n",
    "collection_name = \"basic_chat\"\n",
    "if collection_name in [c.name for c in client.list_collections()]:\n",
    "    collection = client.get_collection(name=collection_name)\n",
    "else:\n",
    "    collection = client.create_collection(name=collection_name)\n",
    "\n",
    "ids = [f\"chat_{i}\" for i in range(len(prompts))]\n",
    "metadatas = [{\"type\": \"chat\"} for _ in range(len(prompts))]\n",
    "\n",
    "collection.add(\n",
    "    documents=prompts,\n",
    "    embeddings=prompt_embeddings.tolist(),\n",
    "    ids=ids,\n",
    "    metadatas=metadatas\n",
    ")\n",
    "\n",
    "print(\"✅ All chat prompts added to ChromaDB!\")\n"
   ]
  },
  {
   "cell_type": "code",
   "execution_count": 4,
   "id": "b02c14a4",
   "metadata": {},
   "outputs": [],
   "source": [
    "from sentence_transformers import util\n",
    "\n",
    "def chat_response(query, top_k=3):\n",
    "    # Embed query\n",
    "    q_emb = embedder.encode([query], convert_to_numpy=True)\n",
    "    q_emb = q_emb / np.linalg.norm(q_emb, axis=1, keepdims=True)\n",
    "    \n",
    "    # Retrieve top-k prompts from collection\n",
    "    results = collection.query(\n",
    "        query_embeddings=q_emb.tolist(),\n",
    "        n_results=top_k\n",
    "    )\n",
    "\n",
    "    docs = results.get(\"documents\", [[]])[0]\n",
    "    if not docs:\n",
    "        return \"Sorry, I don’t have a response for that.\"\n",
    "\n",
    "    # Pick the first match\n",
    "    idx = prompts.index(docs[0])\n",
    "    return completions[idx]\n"
   ]
  },
  {
   "cell_type": "code",
   "execution_count": 5,
   "id": "64d3cc29",
   "metadata": {},
   "outputs": [
    {
     "name": "stdout",
     "output_type": "stream",
     "text": [
      "\n",
      "Sentenara ready! Type 'exit' to quit.\n",
      "Bot: Hello! How can I help you today?\n",
      "Bot: Hi there! How are you doing?\n"
     ]
    }
   ],
   "source": [
    "print(\"\\nSentenara ready! Type 'exit' to quit.\")\n",
    "while True:\n",
    "    user_input = input(\"You: \")\n",
    "    if user_input.lower() in [\"exit\", \"quit\"]:\n",
    "        break\n",
    "    response = chat_response(user_input)\n",
    "    print(\"Bot:\", response)\n"
   ]
  },
  {
   "cell_type": "code",
   "execution_count": null,
   "id": "e8ba2e7c",
   "metadata": {},
   "outputs": [],
   "source": []
  },
  {
   "cell_type": "code",
   "execution_count": null,
   "id": "16adc305",
   "metadata": {},
   "outputs": [],
   "source": []
  },
  {
   "cell_type": "code",
   "execution_count": null,
   "id": "35ba1bdf",
   "metadata": {},
   "outputs": [],
   "source": []
  },
  {
   "cell_type": "code",
   "execution_count": null,
   "id": "a5110017",
   "metadata": {},
   "outputs": [],
   "source": []
  },
  {
   "cell_type": "code",
   "execution_count": null,
   "id": "08877b0f",
   "metadata": {},
   "outputs": [],
   "source": []
  }
 ],
 "metadata": {
  "kernelspec": {
   "display_name": "Python 3",
   "language": "python",
   "name": "python3"
  },
  "language_info": {
   "codemirror_mode": {
    "name": "ipython",
    "version": 3
   },
   "file_extension": ".py",
   "mimetype": "text/x-python",
   "name": "python",
   "nbconvert_exporter": "python",
   "pygments_lexer": "ipython3",
   "version": "3.10.0"
  }
 },
 "nbformat": 4,
 "nbformat_minor": 5
}
